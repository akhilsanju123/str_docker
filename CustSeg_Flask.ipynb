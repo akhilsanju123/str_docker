{
 "cells": [
  {
   "cell_type": "code",
   "execution_count": 7,
   "id": "9dd19377",
   "metadata": {},
   "outputs": [
    {
     "name": "stdout",
     "output_type": "stream",
     "text": [
      " * Serving Flask app '__main__'\n",
      " * Debug mode: off\n"
     ]
    },
    {
     "name": "stderr",
     "output_type": "stream",
     "text": [
      "WARNING: This is a development server. Do not use it in a production deployment. Use a production WSGI server instead.\n",
      " * Running on http://127.0.0.1:5000\n",
      "Press CTRL+C to quit\n",
      "127.0.0.1 - - [07/Mar/2024 10:07:54] \"GET / HTTP/1.1\" 200 -\n",
      "127.0.0.1 - - [07/Mar/2024 10:08:08] \"POST /predict HTTP/1.1\" 200 -\n",
      "127.0.0.1 - - [07/Mar/2024 10:08:10] \"GET / HTTP/1.1\" 200 -\n",
      "127.0.0.1 - - [07/Mar/2024 10:24:06] \"POST /predict HTTP/1.1\" 200 -\n",
      "127.0.0.1 - - [07/Mar/2024 10:24:31] \"GET / HTTP/1.1\" 200 -\n"
     ]
    }
   ],
   "source": [
    "from flask import Flask, render_template, request\n",
    "import pickle\n",
    "import numpy as np\n",
    "import pandas as pd\n",
    "import joblib\n",
    "\n",
    "\n",
    "app = Flask(__name__)\n",
    "\n",
    "model = joblib.load('custseg_pred_xgb.pkl')\n",
    "\n",
    "@app.route('/')\n",
    "def index():\n",
    "    return render_template('index.html')\n",
    "\n",
    "@app.route('/predict', methods=['POST'])\n",
    "def predict():\n",
    "    if request.method == 'POST':\n",
    "        try:\n",
    "            # Parse form data\n",
    "            CustomerID = int(request.form['CustomerID'])\n",
    "            StockCode = int(request.form['StockCode'])\n",
    "            CountryCode = int(request.form['CountryCode'])\n",
    "            UnitPrice = float(request.form['UnitPrice'])\n",
    "            Quantity = int(request.form['Quantity'])\n",
    "            Date = request.form['Date']\n",
    "\n",
    "            # Create a DataFrame with the parsed data\n",
    "            features = pd.DataFrame({\n",
    "                'CustomerID': [CustomerID],\n",
    "                'StockCode': [StockCode],\n",
    "                'CountryCode': [CountryCode],\n",
    "                'UnitPrice': [UnitPrice],\n",
    "                'Quantity': [Quantity],\n",
    "                'Date': [Date]\n",
    "            })\n",
    "\n",
    "            # Convert 'Date' column to datetime\n",
    "            features['Date'] = pd.to_datetime(features['Date'], errors='coerce')\n",
    "\n",
    "            # Create additional features\n",
    "            features['Month'] = features['Date'].dt.month\n",
    "            features['Year'] = features['Date'].dt.year\n",
    "            features['Day'] = features['Date'].dt.day\n",
    "            features['recency'] = (features['Date'] - features['Date'].min()).dt.days\n",
    "            features['Frequency'] = features.groupby('CustomerID')['StockCode'].transform('count')\n",
    "            features['TotalSpend'] = features['Quantity'] * features['UnitPrice']\n",
    "            features['MonetaryValue'] = features.groupby('CustomerID')['TotalSpend'].transform('sum')\n",
    "\n",
    "            # Drop unnecessary columns\n",
    "            x = features.drop(columns=['Date', 'Day', 'Month', 'Year', 'CustomerID', 'StockCode'], axis=1)\n",
    "\n",
    "            # Predict using the model\n",
    "            output = model.predict(x)[0]\n",
    "\n",
    "            if output == 0:\n",
    "                flag = 'Low Value New Customer'\n",
    "            elif output == 1:\n",
    "                flag = 'High Value Frequent Customer'\n",
    "            else:\n",
    "                flag = 'High Value New Customer'\n",
    "\n",
    "            outputline = 'The customer is a {}'.format(flag)\n",
    "            return render_template('result.html', Prediction=outputline)\n",
    "\n",
    "        except Exception as e:\n",
    "            error_message = f\"An error occurred: {str(e)}\"\n",
    "            return render_template('index.html', error=error_message)\n",
    "    else:\n",
    "        return render_template('index.html')\n",
    "\n",
    "\n",
    "if __name__ == '__main__':\n",
    "    app.run()\n"
   ]
  },
  {
   "cell_type": "code",
   "execution_count": null,
   "id": "1a471884",
   "metadata": {},
   "outputs": [],
   "source": []
  }
 ],
 "metadata": {
  "kernelspec": {
   "display_name": "Python 3 (ipykernel)",
   "language": "python",
   "name": "python3"
  },
  "language_info": {
   "codemirror_mode": {
    "name": "ipython",
    "version": 3
   },
   "file_extension": ".py",
   "mimetype": "text/x-python",
   "name": "python",
   "nbconvert_exporter": "python",
   "pygments_lexer": "ipython3",
   "version": "3.11.5"
  }
 },
 "nbformat": 4,
 "nbformat_minor": 5
}
